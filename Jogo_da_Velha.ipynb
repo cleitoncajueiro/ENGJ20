{
  "nbformat": 4,
  "nbformat_minor": 0,
  "metadata": {
    "colab": {
      "provenance": [],
      "authorship_tag": "ABX9TyO2FzZX7EqYhv8WtQYym6Ec",
      "include_colab_link": true
    },
    "kernelspec": {
      "name": "python3",
      "display_name": "Python 3"
    },
    "language_info": {
      "name": "python"
    }
  },
  "cells": [
    {
      "cell_type": "markdown",
      "metadata": {
        "id": "view-in-github",
        "colab_type": "text"
      },
      "source": [
        "<a href=\"https://colab.research.google.com/github/cleitoncajueiro/ENGJ20/blob/main/Jogo_da_Velha.ipynb\" target=\"_parent\"><img src=\"https://colab.research.google.com/assets/colab-badge.svg\" alt=\"Open In Colab\"/></a>"
      ]
    },
    {
      "cell_type": "code",
      "execution_count": 6,
      "metadata": {
        "id": "rMgnIHmc1XxK"
      },
      "outputs": [],
      "source": [
        "  tabuleiro =  {'7': ' ' , '8': ' ' , '9': ' ',\n",
        "                '4': ' ' , '5': ' ' , '6': ' ',\n",
        "                '1': ' ' , '2': ' ' , '3': ' '}\n",
        "\n",
        "def exibirTabuleiro():\n",
        "    print(\"┌───┬───┬───┐\")\n",
        "    print(f\"│ {tabuleiro['7']} │ {tabuleiro['8']} │ {tabuleiro['9']} │\")\n",
        "    print(\"├───┼───┼───┤\")\n",
        "    print(f\"│ {tabuleiro['4']} │ {tabuleiro['5']} │ {tabuleiro['6']} │\")\n",
        "    print(\"├───┼───┼───┤\")\n",
        "    print(f\"│ {tabuleiro['1']} │ {tabuleiro['2']} │ {tabuleiro['3']} │\")\n",
        "    print(\"└───┴───┴───┘\")"
      ]
    },
    {
      "cell_type": "code",
      "source": [
        "vencedor=0\n",
        "rodada=0\n",
        "while vencedor==0 and rodada<5:\n",
        "    j1= input('Jogador 1, escolha uma posição no tabuleiro: ')\n",
        "\n",
        "    if tabuleiro[j1] == \" \":\n",
        "      tabuleiro[j1] = 'X'\n",
        "      rodada=rodada+1\n",
        "      exibirTabuleiro()\n",
        "      if tabuleiro['7'] == tabuleiro['8'] == tabuleiro['9'] == 'X' or tabuleiro['4'] == tabuleiro['5'] == tabuleiro['6'] == 'X' or tabuleiro['1'] == tabuleiro['2'] == tabuleiro['3'] == 'X' or tabuleiro['7'] == tabuleiro['4'] == tabuleiro['1'] == 'X' or tabuleiro['8'] == tabuleiro['5'] == tabuleiro['2'] == 'X' or tabuleiro['9'] == tabuleiro['6'] == tabuleiro['3'] == 'X' or tabuleiro['7'] == tabuleiro['5'] == tabuleiro['3'] == 'X' or tabuleiro['9'] == tabuleiro['5'] == tabuleiro['1'] == 'X' or tabuleiro['7'] == tabuleiro['5'] == tabuleiro['3'] == 'X' or tabuleiro['9'] == tabuleiro['5'] == tabuleiro['1'] == 'X':\n",
        "          print('Jogador 1 venceu!')\n",
        "          vencedor=1\n",
        "      elif tabuleiro['7'] == tabuleiro['8'] == tabuleiro['9'] == 'O' or tabuleiro['4'] == tabuleiro['5'] == tabuleiro['6'] == 'O' or tabuleiro['1'] == tabuleiro['2'] == tabuleiro['3'] == 'O' or tabuleiro['7'] == tabuleiro['4'] == tabuleiro['1'] == 'O' or tabuleiro['8'] == tabuleiro['5'] == tabuleiro['2'] == 'O' or tabuleiro['9'] == tabuleiro['6'] == tabuleiro['3'] == 'O' or tabuleiro['7'] == tabuleiro['5'] == tabuleiro['3'] == 'O' or tabuleiro['9'] == tabuleiro['5'] == tabuleiro['1'] == 'O' or tabuleiro['7'] == tabuleiro['5'] == tabuleiro['3'] == 'O' or tabuleiro['9'] == tabuleiro['5'] == tabuleiro['1'] == 'O':\n",
        "          print('Jogador 2 venceu!')\n",
        "          vencedor=1\n",
        "      elif rodada==5:\n",
        "          print('Empate!')\n",
        "      else:\n",
        "          jogada=0\n",
        "          while jogada==0:\n",
        "              j2= input('Jogador 2, escolha uma posição no tabuleiro: ')\n",
        "              if tabuleiro[j2] == \" \":\n",
        "                  tabuleiro[j2] = 'O'\n",
        "                  exibirTabuleiro()\n",
        "                  jogada=1\n",
        "                  if tabuleiro['7'] == tabuleiro['8'] == tabuleiro['9'] == 'X' or tabuleiro['4'] == tabuleiro['5'] == tabuleiro['6'] == 'X' or tabuleiro['1'] == tabuleiro['2'] == tabuleiro['3'] == 'X' or tabuleiro['7'] == tabuleiro['4'] == tabuleiro['1'] == 'X' or tabuleiro['8'] == tabuleiro['5'] == tabuleiro['2'] == 'X' or tabuleiro['9'] == tabuleiro['6'] == tabuleiro['3'] == 'X' or tabuleiro['7'] == tabuleiro['5'] == tabuleiro['3'] == 'X' or tabuleiro['9'] == tabuleiro['5'] == tabuleiro['1'] == 'X' or tabuleiro['7'] == tabuleiro['5'] == tabuleiro['3'] == 'X' or tabuleiro['9'] == tabuleiro['5'] == tabuleiro['1'] == 'X':\n",
        "                      print('Jogador 1 venceu!')\n",
        "                      vencedor=1\n",
        "                  elif tabuleiro['7'] == tabuleiro['8'] == tabuleiro['9'] == 'O' or tabuleiro['4'] == tabuleiro['5'] == tabuleiro['6'] == 'O' or tabuleiro['1'] == tabuleiro['2'] == tabuleiro['3'] == 'O' or tabuleiro['7'] == tabuleiro['4'] == tabuleiro['1'] == 'O' or tabuleiro['8'] == tabuleiro['5'] == tabuleiro['2'] == 'O' or tabuleiro['9'] == tabuleiro['6'] == tabuleiro['3'] == 'O' or tabuleiro['7'] == tabuleiro['5'] == tabuleiro['3'] == 'O' or tabuleiro['9'] == tabuleiro['5'] == tabuleiro['1'] == 'O' or tabuleiro['7'] == tabuleiro['5'] == tabuleiro['3'] == 'O' or tabuleiro['9'] == tabuleiro['5'] == tabuleiro['1'] == 'O':\n",
        "                      print('Jogador 2 venceu!')\n",
        "                      vencedor=1\n",
        "                  elif rodada==5:\n",
        "                      print('Empate!')\n",
        "\n",
        "              else:\n",
        "                  print('Posição ocupada! Jogue novamente.')\n",
        "\n",
        "    else:\n",
        "      print('Posição ocupada! Jogue novamente.')"
      ],
      "metadata": {
        "id": "gvb3QE332lr1"
      },
      "execution_count": null,
      "outputs": []
    }
  ]
}