{
  "cells": [
    {
      "cell_type": "markdown",
      "metadata": {
        "colab_type": "text",
        "id": "view-in-github"
      },
      "source": [
        "<a href=\"https://colab.research.google.com/github/cleitoncajueiro/ENGJ20/blob/main/Jogo_da_Velha.ipynb\" target=\"_parent\"><img src=\"https://colab.research.google.com/assets/colab-badge.svg\" alt=\"Open In Colab\"/></a>"
      ]
    },
    {
      "cell_type": "code",
      "execution_count": 1,
      "metadata": {
        "id": "rMgnIHmc1XxK"
      },
      "outputs": [],
      "source": [
        "  tabuleiro =  {'7': ' ' , '8': ' ' , '9': ' ',\n",
        "                '4': ' ' , '5': ' ' , '6': ' ',\n",
        "                '1': ' ' , '2': ' ' , '3': ' '}\n",
        "\n",
        "def exibirTabuleiro():\n",
        "    print(\"┌───┬───┬───┐\")\n",
        "    print(f\"│ {tabuleiro['7']} │ {tabuleiro['8']} │ {tabuleiro['9']} │\")\n",
        "    print(\"├───┼───┼───┤\")\n",
        "    print(f\"│ {tabuleiro['4']} │ {tabuleiro['5']} │ {tabuleiro['6']} │\")\n",
        "    print(\"├───┼───┼───┤\")\n",
        "    print(f\"│ {tabuleiro['1']} │ {tabuleiro['2']} │ {tabuleiro['3']} │\")\n",
        "    print(\"└───┴───┴───┘\")\n",
        "\n",
        "velhaj1 = tabuleiro['7'] == tabuleiro['8'] == tabuleiro['9'] == 'X' or tabuleiro['4'] == tabuleiro['5'] == tabuleiro['6'] == 'X' or tabuleiro['1'] == tabuleiro['2'] == tabuleiro['3'] == 'X' or tabuleiro['7'] == tabuleiro['4'] == tabuleiro['1'] == 'X' or tabuleiro['8'] == tabuleiro['5'] == tabuleiro['2'] == 'X' or tabuleiro['9'] == tabuleiro['6'] == tabuleiro['3'] == 'X' or tabuleiro['7'] == tabuleiro['5'] == tabuleiro['3'] == 'X' or tabuleiro['9'] == tabuleiro['5'] == tabuleiro['1'] == 'X' or tabuleiro['7'] == tabuleiro['5'] == tabuleiro['3'] == 'X' or tabuleiro['9'] == tabuleiro['5'] == tabuleiro['1'] == 'X'\n",
        "\n",
        "velhaj2 = tabuleiro['7'] == tabuleiro['8'] == tabuleiro['9'] == 'O' or tabuleiro['4'] == tabuleiro['5'] == tabuleiro['6'] == 'O' or tabuleiro['1'] == tabuleiro['2'] == tabuleiro['3'] == 'O' or tabuleiro['7'] == tabuleiro['4'] == tabuleiro['1'] == 'O' or tabuleiro['8'] == tabuleiro['5'] == tabuleiro['2'] == 'O' or tabuleiro['9'] == tabuleiro['6'] == tabuleiro['3'] == 'O' or tabuleiro['7'] == tabuleiro['5'] == tabuleiro['3'] == 'O' or tabuleiro['9'] == tabuleiro['5'] == tabuleiro['1'] == 'O' or tabuleiro['7'] == tabuleiro['5'] == tabuleiro['3'] == 'O' or tabuleiro['9'] == tabuleiro['5'] == tabuleiro['1'] == 'O'\n"
      ]
    },
    {
      "cell_type": "code",
      "execution_count": null,
      "metadata": {
        "id": "gvb3QE332lr1"
      },
      "outputs": [
        {
          "name": "stdout",
          "output_type": "stream",
          "text": [
            "┌───┬───┬───┐\n",
            "│   │   │   │\n",
            "├───┼───┼───┤\n",
            "│   │   │   │\n",
            "├───┼───┼───┤\n",
            "│ X │   │   │\n",
            "└───┴───┴───┘\n",
            "┌───┬───┬───┐\n",
            "│   │   │   │\n",
            "├───┼───┼───┤\n",
            "│   │   │   │\n",
            "├───┼───┼───┤\n",
            "│ X │ O │   │\n",
            "└───┴───┴───┘\n",
            "┌───┬───┬───┐\n",
            "│   │   │   │\n",
            "├───┼───┼───┤\n",
            "│ X │   │   │\n",
            "├───┼───┼───┤\n",
            "│ X │ O │   │\n",
            "└───┴───┴───┘\n",
            "┌───┬───┬───┐\n",
            "│   │   │   │\n",
            "├───┼───┼───┤\n",
            "│ X │ O │   │\n",
            "├───┼───┼───┤\n",
            "│ X │ O │   │\n",
            "└───┴───┴───┘\n",
            "┌───┬───┬───┐\n",
            "│ X │   │   │\n",
            "├───┼───┼───┤\n",
            "│ X │ O │   │\n",
            "├───┼───┼───┤\n",
            "│ X │ O │   │\n",
            "└───┴───┴───┘\n"
          ]
        }
      ],
      "source": [
        "vencedor=0\n",
        "rodada=0\n",
        "while vencedor==0 and rodada<5:\n",
        "    j1= input('Jogador 1, escolha uma posição no tabuleiro: ')\n",
        "\n",
        "    if tabuleiro[j1] == \" \":\n",
        "      tabuleiro[j1] = 'X'\n",
        "      rodada=rodada+1\n",
        "      exibirTabuleiro()\n",
        "      if velhaj1:\n",
        "          print('Jogador 1 venceu!')\n",
        "          vencedor=1\n",
        "      elif velhaj2:\n",
        "          print('Jogador 2 venceu!')\n",
        "          vencedor=1\n",
        "      elif rodada==5:\n",
        "          print('Empate!')\n",
        "      else:\n",
        "          jogada=0\n",
        "          while jogada==0:\n",
        "              j2= input('Jogador 2, escolha uma posição no tabuleiro: ')\n",
        "              if tabuleiro[j2] == \" \":\n",
        "                  tabuleiro[j2] = 'O'\n",
        "                  exibirTabuleiro()\n",
        "                  jogada=1\n",
        "                  if velhaj1:\n",
        "                      print('Jogador 1 venceu!')\n",
        "                      vencedor=1\n",
        "                  elif velhaj2:\n",
        "                      print('Jogador 2 venceu!')\n",
        "                      vencedor=1\n",
        "                  elif rodada==5:\n",
        "                      print('Empate!')\n",
        "\n",
        "              else:\n",
        "                  print('Posição ocupada! Jogue novamente.')\n",
        "\n",
        "    else:\n",
        "      print('Posição ocupada! Jogue novamente.')"
      ]
    }
  ],
  "metadata": {
    "colab": {
      "authorship_tag": "ABX9TyO2FzZX7EqYhv8WtQYym6Ec",
      "include_colab_link": true,
      "provenance": []
    },
    "kernelspec": {
      "display_name": "Python 3",
      "name": "python3"
    },
    "language_info": {
      "codemirror_mode": {
        "name": "ipython",
        "version": 3
      },
      "file_extension": ".py",
      "mimetype": "text/x-python",
      "name": "python",
      "nbconvert_exporter": "python",
      "pygments_lexer": "ipython3",
      "version": "3.13.0"
    }
  },
  "nbformat": 4,
  "nbformat_minor": 0
}
